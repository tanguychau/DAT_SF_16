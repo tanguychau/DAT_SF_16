{
 "cells": [
  {
   "cell_type": "markdown",
   "metadata": {},
   "source": [
    "# Homework 2 - Tanguy Chau"
   ]
  },
  {
   "cell_type": "markdown",
   "metadata": {},
   "source": [
    "This program analyzes Inpatient Prospective Payment Data obtained from the Center for Medicare & Medicaid Services"
   ]
  },
  {
   "cell_type": "code",
   "execution_count": 50,
   "metadata": {
    "collapsed": false
   },
   "outputs": [],
   "source": [
    "import json\n",
    "import urllib\n",
    "import pandas as pd\n",
    "import numpy as np\n",
    "from bokeh.plotting import figure, output_notebook,show,vplot\n",
    "\n",
    "data_json = json.load(urllib.urlopen('https://data.cms.gov/resource/97k6-zzx3.json'))\n",
    "data = pd.read_json('https://data.cms.gov/resource/97k6-zzx3.json')\n"
   ]
  },
  {
   "cell_type": "code",
   "execution_count": 62,
   "metadata": {
    "collapsed": false
   },
   "outputs": [
    {
     "ename": "AttributeError",
     "evalue": "'list' object has no attribute 'key'",
     "output_type": "error",
     "traceback": [
      "\u001b[1;31m---------------------------------------------------------------------------\u001b[0m",
      "\u001b[1;31mAttributeError\u001b[0m                            Traceback (most recent call last)",
      "\u001b[1;32m<ipython-input-62-06d1d56e8ac0>\u001b[0m in \u001b[0;36m<module>\u001b[1;34m()\u001b[0m\n\u001b[1;32m----> 1\u001b[1;33m \u001b[0mdata_json\u001b[0m\u001b[1;33m.\u001b[0m\u001b[0mkey\u001b[0m\u001b[1;33m(\u001b[0m\u001b[1;33m)\u001b[0m\u001b[1;33m\u001b[0m\u001b[0m\n\u001b[0m",
      "\u001b[1;31mAttributeError\u001b[0m: 'list' object has no attribute 'key'"
     ]
    }
   ],
   "source": [
    "data_json.key()"
   ]
  },
  {
   "cell_type": "code",
   "execution_count": 63,
   "metadata": {
    "collapsed": false,
    "scrolled": false
   },
   "outputs": [
    {
     "name": "stdout",
     "output_type": "stream",
     "text": [
      "<class 'pandas.core.frame.DataFrame'>\n",
      "Int64Index: 1000 entries, 0 to 999\n",
      "Data columns (total 12 columns):\n",
      "average_covered_charges                 1000 non-null float64\n",
      "average_medicare_payments               1000 non-null float64\n",
      "average_medicare_payments_2             1000 non-null float64\n",
      "drg_definition                          1000 non-null object\n",
      "hospital_referral_region_description    1000 non-null object\n",
      "provider_city                           1000 non-null object\n",
      "provider_id                             1000 non-null int64\n",
      "provider_name                           1000 non-null object\n",
      "provider_state                          1000 non-null object\n",
      "provider_street_address                 1000 non-null object\n",
      "provider_zip_code                       1000 non-null int64\n",
      "total_discharges                        1000 non-null int64\n",
      "dtypes: float64(3), int64(3), object(6)\n",
      "memory usage: 101.6+ KB\n"
     ]
    }
   ],
   "source": [
    "data.info()"
   ]
  },
  {
   "cell_type": "code",
   "execution_count": 47,
   "metadata": {
    "collapsed": false,
    "scrolled": true
   },
   "outputs": [
    {
     "data": {
      "text/html": [
       "<div style=\"max-height:1000px;max-width:1500px;overflow:auto;\">\n",
       "<table border=\"1\" class=\"dataframe\">\n",
       "  <thead>\n",
       "    <tr style=\"text-align: right;\">\n",
       "      <th></th>\n",
       "      <th></th>\n",
       "      <th>average_covered_charges</th>\n",
       "      <th>average_medicare_payments</th>\n",
       "      <th>average_medicare_payments_2</th>\n",
       "      <th>provider_id</th>\n",
       "      <th>provider_zip_code</th>\n",
       "      <th>total_discharges</th>\n",
       "    </tr>\n",
       "    <tr>\n",
       "      <th>drg_definition</th>\n",
       "      <th></th>\n",
       "      <th></th>\n",
       "      <th></th>\n",
       "      <th></th>\n",
       "      <th></th>\n",
       "      <th></th>\n",
       "      <th></th>\n",
       "    </tr>\n",
       "  </thead>\n",
       "  <tbody>\n",
       "    <tr>\n",
       "      <th rowspan=\"8\" valign=\"top\">039 - EXTRACRANIAL PROCEDURES W/O CC/MCC</th>\n",
       "      <th>count</th>\n",
       "      <td>   1000.000000</td>\n",
       "      <td>  1000.000000</td>\n",
       "      <td>  1000.000000</td>\n",
       "      <td>   1000.000000</td>\n",
       "      <td>  1000.000000</td>\n",
       "      <td> 1000.000000</td>\n",
       "    </tr>\n",
       "    <tr>\n",
       "      <th>mean</th>\n",
       "      <td>  30764.527410</td>\n",
       "      <td>  6967.502010</td>\n",
       "      <td>  5575.505550</td>\n",
       "      <td> 235833.077000</td>\n",
       "      <td> 48352.166000</td>\n",
       "      <td>   31.334000</td>\n",
       "    </tr>\n",
       "    <tr>\n",
       "      <th>std</th>\n",
       "      <td>  16177.078199</td>\n",
       "      <td>  1492.145685</td>\n",
       "      <td>  1261.369332</td>\n",
       "      <td> 137626.958407</td>\n",
       "      <td> 26806.960424</td>\n",
       "      <td>   21.807522</td>\n",
       "    </tr>\n",
       "    <tr>\n",
       "      <th>min</th>\n",
       "      <td>   5981.050000</td>\n",
       "      <td>  4968.000000</td>\n",
       "      <td>  3592.850000</td>\n",
       "      <td>  10001.000000</td>\n",
       "      <td>  1199.000000</td>\n",
       "      <td>   11.000000</td>\n",
       "    </tr>\n",
       "    <tr>\n",
       "      <th>25%</th>\n",
       "      <td>  19812.082500</td>\n",
       "      <td>  6003.065000</td>\n",
       "      <td>  4761.220000</td>\n",
       "      <td> 110029.750000</td>\n",
       "      <td> 29617.000000</td>\n",
       "      <td>   16.000000</td>\n",
       "    </tr>\n",
       "    <tr>\n",
       "      <th>50%</th>\n",
       "      <td>  26958.160000</td>\n",
       "      <td>  6587.160000</td>\n",
       "      <td>  5267.605000</td>\n",
       "      <td> 230043.500000</td>\n",
       "      <td> 45822.000000</td>\n",
       "      <td>   24.000000</td>\n",
       "    </tr>\n",
       "    <tr>\n",
       "      <th>75%</th>\n",
       "      <td>  37167.672500</td>\n",
       "      <td>  7529.992500</td>\n",
       "      <td>  6057.345000</td>\n",
       "      <td> 360042.750000</td>\n",
       "      <td> 71223.500000</td>\n",
       "      <td>   40.000000</td>\n",
       "    </tr>\n",
       "    <tr>\n",
       "      <th>max</th>\n",
       "      <td> 146892.000000</td>\n",
       "      <td> 18420.560000</td>\n",
       "      <td> 15855.180000</td>\n",
       "      <td> 490021.000000</td>\n",
       "      <td> 99508.000000</td>\n",
       "      <td>  190.000000</td>\n",
       "    </tr>\n",
       "  </tbody>\n",
       "</table>\n",
       "</div>"
      ],
      "text/plain": [
       "                                                average_covered_charges  \\\n",
       "drg_definition                                                            \n",
       "039 - EXTRACRANIAL PROCEDURES W/O CC/MCC count              1000.000000   \n",
       "                                         mean              30764.527410   \n",
       "                                         std               16177.078199   \n",
       "                                         min                5981.050000   \n",
       "                                         25%               19812.082500   \n",
       "                                         50%               26958.160000   \n",
       "                                         75%               37167.672500   \n",
       "                                         max              146892.000000   \n",
       "\n",
       "                                                average_medicare_payments  \\\n",
       "drg_definition                                                              \n",
       "039 - EXTRACRANIAL PROCEDURES W/O CC/MCC count                1000.000000   \n",
       "                                         mean                 6967.502010   \n",
       "                                         std                  1492.145685   \n",
       "                                         min                  4968.000000   \n",
       "                                         25%                  6003.065000   \n",
       "                                         50%                  6587.160000   \n",
       "                                         75%                  7529.992500   \n",
       "                                         max                 18420.560000   \n",
       "\n",
       "                                                average_medicare_payments_2  \\\n",
       "drg_definition                                                                \n",
       "039 - EXTRACRANIAL PROCEDURES W/O CC/MCC count                  1000.000000   \n",
       "                                         mean                   5575.505550   \n",
       "                                         std                    1261.369332   \n",
       "                                         min                    3592.850000   \n",
       "                                         25%                    4761.220000   \n",
       "                                         50%                    5267.605000   \n",
       "                                         75%                    6057.345000   \n",
       "                                         max                   15855.180000   \n",
       "\n",
       "                                                  provider_id  \\\n",
       "drg_definition                                                  \n",
       "039 - EXTRACRANIAL PROCEDURES W/O CC/MCC count    1000.000000   \n",
       "                                         mean   235833.077000   \n",
       "                                         std    137626.958407   \n",
       "                                         min     10001.000000   \n",
       "                                         25%    110029.750000   \n",
       "                                         50%    230043.500000   \n",
       "                                         75%    360042.750000   \n",
       "                                         max    490021.000000   \n",
       "\n",
       "                                                provider_zip_code  \\\n",
       "drg_definition                                                      \n",
       "039 - EXTRACRANIAL PROCEDURES W/O CC/MCC count        1000.000000   \n",
       "                                         mean        48352.166000   \n",
       "                                         std         26806.960424   \n",
       "                                         min          1199.000000   \n",
       "                                         25%         29617.000000   \n",
       "                                         50%         45822.000000   \n",
       "                                         75%         71223.500000   \n",
       "                                         max         99508.000000   \n",
       "\n",
       "                                                total_discharges  \n",
       "drg_definition                                                    \n",
       "039 - EXTRACRANIAL PROCEDURES W/O CC/MCC count       1000.000000  \n",
       "                                         mean          31.334000  \n",
       "                                         std           21.807522  \n",
       "                                         min           11.000000  \n",
       "                                         25%           16.000000  \n",
       "                                         50%           24.000000  \n",
       "                                         75%           40.000000  \n",
       "                                         max          190.000000  "
      ]
     },
     "execution_count": 47,
     "metadata": {},
     "output_type": "execute_result"
    }
   ],
   "source": [
    "# data.groupby('drg_definition')['average_covered_charges'].mean()\n",
    "data.groupby('drg_definition').describe()"
   ]
  },
  {
   "cell_type": "code",
   "execution_count": 48,
   "metadata": {
    "collapsed": false,
    "scrolled": true
   },
   "outputs": [],
   "source": [
    "# data.drg_definition"
   ]
  },
  {
   "cell_type": "code",
   "execution_count": 49,
   "metadata": {
    "collapsed": false
   },
   "outputs": [],
   "source": [
    "p1 = figure(title=\"Cost distribution\",x_axis_label = 'Avg. Covered Charges',y_axis_label = 'Count')\n",
    "#construct the histogram\n",
    "hist, edges = np.histogram(data.average_covered_charges.values, density=True, bins=1000)\n",
    "#Construct your x axis\n",
    "x = np.linspace(data.average_covered_charges.min(),data.average_covered_charges.max(),100)\n",
    "#add the bars, scaling the value to the full count of people\n",
    "p1.quad(top=hist*len(data.average_covered_charges), bottom=0, left=edges[:-1], right=edges[1:],line_color='black')\n",
    "\n",
    "\n",
    "p1\n",
    "show(vplot(p1,p1))\n"
   ]
  },
  {
   "cell_type": "code",
   "execution_count": null,
   "metadata": {
    "collapsed": true
   },
   "outputs": [],
   "source": []
  }
 ],
 "metadata": {
  "kernelspec": {
   "display_name": "Python 2",
   "language": "python",
   "name": "python2"
  },
  "language_info": {
   "codemirror_mode": {
    "name": "ipython",
    "version": 2
   },
   "file_extension": ".py",
   "mimetype": "text/x-python",
   "name": "python",
   "nbconvert_exporter": "python",
   "pygments_lexer": "ipython2",
   "version": "2.7.9"
  }
 },
 "nbformat": 4,
 "nbformat_minor": 0
}
